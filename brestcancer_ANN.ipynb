{
  "nbformat": 4,
  "nbformat_minor": 0,
  "metadata": {
    "colab": {
      "provenance": [],
      "mount_file_id": "11oWvtuLmI2G0tUsutjSizNtLK1g6Uerp",
      "authorship_tag": "ABX9TyOkJSJR2E2ehwTT7G6fLesU",
      "include_colab_link": true
    },
    "kernelspec": {
      "name": "python3",
      "display_name": "Python 3"
    },
    "language_info": {
      "name": "python"
    }
  },
  "cells": [
    {
      "cell_type": "markdown",
      "metadata": {
        "id": "view-in-github",
        "colab_type": "text"
      },
      "source": [
        "<a href=\"https://colab.research.google.com/github/AbhinavaReddy-hub/AbhinavaReddy-hub/blob/main/brestcancer_ANN.ipynb\" target=\"_parent\"><img src=\"https://colab.research.google.com/assets/colab-badge.svg\" alt=\"Open In Colab\"/></a>"
      ]
    },
    {
      "cell_type": "markdown",
      "source": [
        "1.import required librarys"
      ],
      "metadata": {
        "id": "Zi4B7eA3RVup"
      }
    },
    {
      "cell_type": "code",
      "execution_count": 1,
      "metadata": {
        "id": "HtZUDRzSPcxd"
      },
      "outputs": [],
      "source": [
        "import numpy as np\n",
        "import pandas as pd\n",
        "from sklearn.preprocessing import StandardScaler\n",
        "from sklearn.model_selection import train_test_split"
      ]
    },
    {
      "cell_type": "markdown",
      "source": [
        "2.load the dataset\n"
      ],
      "metadata": {
        "id": "v201Tcv_RDK6"
      }
    },
    {
      "cell_type": "code",
      "source": [
        "data=pd.read_csv(\"/content/breast_cancer_data.csv\")\n",
        "data.head()"
      ],
      "metadata": {
        "colab": {
          "base_uri": "https://localhost:8080/",
          "height": 243
        },
        "id": "aFTahvHnRRca",
        "outputId": "13092f96-c356-4b20-fb38-12c36f5afe71"
      },
      "execution_count": 3,
      "outputs": [
        {
          "output_type": "execute_result",
          "data": {
            "text/plain": [
              "         id diagnosis  radius_mean  texture_mean  perimeter_mean  area_mean  \\\n",
              "0    842302         M        17.99         10.38          122.80     1001.0   \n",
              "1    842517         M        20.57         17.77          132.90     1326.0   \n",
              "2  84300903         M        19.69         21.25          130.00     1203.0   \n",
              "3  84348301         M        11.42         20.38           77.58      386.1   \n",
              "4  84358402         M        20.29         14.34          135.10     1297.0   \n",
              "\n",
              "   smoothness_mean  compactness_mean  concavity_mean  concave points_mean  \\\n",
              "0          0.11840           0.27760          0.3001              0.14710   \n",
              "1          0.08474           0.07864          0.0869              0.07017   \n",
              "2          0.10960           0.15990          0.1974              0.12790   \n",
              "3          0.14250           0.28390          0.2414              0.10520   \n",
              "4          0.10030           0.13280          0.1980              0.10430   \n",
              "\n",
              "   symmetry_mean  fractal_dimension_mean  radius_se  texture_se  \n",
              "0         0.2419                 0.07871     1.0950      0.9053  \n",
              "1         0.1812                 0.05667     0.5435      0.7339  \n",
              "2         0.2069                 0.05999     0.7456      0.7869  \n",
              "3         0.2597                 0.09744     0.4956      1.1560  \n",
              "4         0.1809                 0.05883     0.7572      0.7813  "
            ],
            "text/html": [
              "\n",
              "  <div id=\"df-404665d0-c344-4cca-be7b-74543c6e1a28\" class=\"colab-df-container\">\n",
              "    <div>\n",
              "<style scoped>\n",
              "    .dataframe tbody tr th:only-of-type {\n",
              "        vertical-align: middle;\n",
              "    }\n",
              "\n",
              "    .dataframe tbody tr th {\n",
              "        vertical-align: top;\n",
              "    }\n",
              "\n",
              "    .dataframe thead th {\n",
              "        text-align: right;\n",
              "    }\n",
              "</style>\n",
              "<table border=\"1\" class=\"dataframe\">\n",
              "  <thead>\n",
              "    <tr style=\"text-align: right;\">\n",
              "      <th></th>\n",
              "      <th>id</th>\n",
              "      <th>diagnosis</th>\n",
              "      <th>radius_mean</th>\n",
              "      <th>texture_mean</th>\n",
              "      <th>perimeter_mean</th>\n",
              "      <th>area_mean</th>\n",
              "      <th>smoothness_mean</th>\n",
              "      <th>compactness_mean</th>\n",
              "      <th>concavity_mean</th>\n",
              "      <th>concave points_mean</th>\n",
              "      <th>symmetry_mean</th>\n",
              "      <th>fractal_dimension_mean</th>\n",
              "      <th>radius_se</th>\n",
              "      <th>texture_se</th>\n",
              "    </tr>\n",
              "  </thead>\n",
              "  <tbody>\n",
              "    <tr>\n",
              "      <th>0</th>\n",
              "      <td>842302</td>\n",
              "      <td>M</td>\n",
              "      <td>17.99</td>\n",
              "      <td>10.38</td>\n",
              "      <td>122.80</td>\n",
              "      <td>1001.0</td>\n",
              "      <td>0.11840</td>\n",
              "      <td>0.27760</td>\n",
              "      <td>0.3001</td>\n",
              "      <td>0.14710</td>\n",
              "      <td>0.2419</td>\n",
              "      <td>0.07871</td>\n",
              "      <td>1.0950</td>\n",
              "      <td>0.9053</td>\n",
              "    </tr>\n",
              "    <tr>\n",
              "      <th>1</th>\n",
              "      <td>842517</td>\n",
              "      <td>M</td>\n",
              "      <td>20.57</td>\n",
              "      <td>17.77</td>\n",
              "      <td>132.90</td>\n",
              "      <td>1326.0</td>\n",
              "      <td>0.08474</td>\n",
              "      <td>0.07864</td>\n",
              "      <td>0.0869</td>\n",
              "      <td>0.07017</td>\n",
              "      <td>0.1812</td>\n",
              "      <td>0.05667</td>\n",
              "      <td>0.5435</td>\n",
              "      <td>0.7339</td>\n",
              "    </tr>\n",
              "    <tr>\n",
              "      <th>2</th>\n",
              "      <td>84300903</td>\n",
              "      <td>M</td>\n",
              "      <td>19.69</td>\n",
              "      <td>21.25</td>\n",
              "      <td>130.00</td>\n",
              "      <td>1203.0</td>\n",
              "      <td>0.10960</td>\n",
              "      <td>0.15990</td>\n",
              "      <td>0.1974</td>\n",
              "      <td>0.12790</td>\n",
              "      <td>0.2069</td>\n",
              "      <td>0.05999</td>\n",
              "      <td>0.7456</td>\n",
              "      <td>0.7869</td>\n",
              "    </tr>\n",
              "    <tr>\n",
              "      <th>3</th>\n",
              "      <td>84348301</td>\n",
              "      <td>M</td>\n",
              "      <td>11.42</td>\n",
              "      <td>20.38</td>\n",
              "      <td>77.58</td>\n",
              "      <td>386.1</td>\n",
              "      <td>0.14250</td>\n",
              "      <td>0.28390</td>\n",
              "      <td>0.2414</td>\n",
              "      <td>0.10520</td>\n",
              "      <td>0.2597</td>\n",
              "      <td>0.09744</td>\n",
              "      <td>0.4956</td>\n",
              "      <td>1.1560</td>\n",
              "    </tr>\n",
              "    <tr>\n",
              "      <th>4</th>\n",
              "      <td>84358402</td>\n",
              "      <td>M</td>\n",
              "      <td>20.29</td>\n",
              "      <td>14.34</td>\n",
              "      <td>135.10</td>\n",
              "      <td>1297.0</td>\n",
              "      <td>0.10030</td>\n",
              "      <td>0.13280</td>\n",
              "      <td>0.1980</td>\n",
              "      <td>0.10430</td>\n",
              "      <td>0.1809</td>\n",
              "      <td>0.05883</td>\n",
              "      <td>0.7572</td>\n",
              "      <td>0.7813</td>\n",
              "    </tr>\n",
              "  </tbody>\n",
              "</table>\n",
              "</div>\n",
              "    <div class=\"colab-df-buttons\">\n",
              "\n",
              "  <div class=\"colab-df-container\">\n",
              "    <button class=\"colab-df-convert\" onclick=\"convertToInteractive('df-404665d0-c344-4cca-be7b-74543c6e1a28')\"\n",
              "            title=\"Convert this dataframe to an interactive table.\"\n",
              "            style=\"display:none;\">\n",
              "\n",
              "  <svg xmlns=\"http://www.w3.org/2000/svg\" height=\"24px\" viewBox=\"0 -960 960 960\">\n",
              "    <path d=\"M120-120v-720h720v720H120Zm60-500h600v-160H180v160Zm220 220h160v-160H400v160Zm0 220h160v-160H400v160ZM180-400h160v-160H180v160Zm440 0h160v-160H620v160ZM180-180h160v-160H180v160Zm440 0h160v-160H620v160Z\"/>\n",
              "  </svg>\n",
              "    </button>\n",
              "\n",
              "  <style>\n",
              "    .colab-df-container {\n",
              "      display:flex;\n",
              "      gap: 12px;\n",
              "    }\n",
              "\n",
              "    .colab-df-convert {\n",
              "      background-color: #E8F0FE;\n",
              "      border: none;\n",
              "      border-radius: 50%;\n",
              "      cursor: pointer;\n",
              "      display: none;\n",
              "      fill: #1967D2;\n",
              "      height: 32px;\n",
              "      padding: 0 0 0 0;\n",
              "      width: 32px;\n",
              "    }\n",
              "\n",
              "    .colab-df-convert:hover {\n",
              "      background-color: #E2EBFA;\n",
              "      box-shadow: 0px 1px 2px rgba(60, 64, 67, 0.3), 0px 1px 3px 1px rgba(60, 64, 67, 0.15);\n",
              "      fill: #174EA6;\n",
              "    }\n",
              "\n",
              "    .colab-df-buttons div {\n",
              "      margin-bottom: 4px;\n",
              "    }\n",
              "\n",
              "    [theme=dark] .colab-df-convert {\n",
              "      background-color: #3B4455;\n",
              "      fill: #D2E3FC;\n",
              "    }\n",
              "\n",
              "    [theme=dark] .colab-df-convert:hover {\n",
              "      background-color: #434B5C;\n",
              "      box-shadow: 0px 1px 3px 1px rgba(0, 0, 0, 0.15);\n",
              "      filter: drop-shadow(0px 1px 2px rgba(0, 0, 0, 0.3));\n",
              "      fill: #FFFFFF;\n",
              "    }\n",
              "  </style>\n",
              "\n",
              "    <script>\n",
              "      const buttonEl =\n",
              "        document.querySelector('#df-404665d0-c344-4cca-be7b-74543c6e1a28 button.colab-df-convert');\n",
              "      buttonEl.style.display =\n",
              "        google.colab.kernel.accessAllowed ? 'block' : 'none';\n",
              "\n",
              "      async function convertToInteractive(key) {\n",
              "        const element = document.querySelector('#df-404665d0-c344-4cca-be7b-74543c6e1a28');\n",
              "        const dataTable =\n",
              "          await google.colab.kernel.invokeFunction('convertToInteractive',\n",
              "                                                    [key], {});\n",
              "        if (!dataTable) return;\n",
              "\n",
              "        const docLinkHtml = 'Like what you see? Visit the ' +\n",
              "          '<a target=\"_blank\" href=https://colab.research.google.com/notebooks/data_table.ipynb>data table notebook</a>'\n",
              "          + ' to learn more about interactive tables.';\n",
              "        element.innerHTML = '';\n",
              "        dataTable['output_type'] = 'display_data';\n",
              "        await google.colab.output.renderOutput(dataTable, element);\n",
              "        const docLink = document.createElement('div');\n",
              "        docLink.innerHTML = docLinkHtml;\n",
              "        element.appendChild(docLink);\n",
              "      }\n",
              "    </script>\n",
              "  </div>\n",
              "\n",
              "\n",
              "<div id=\"df-d0b7bb43-c4b1-4e36-b0bb-fbb82c44a37b\">\n",
              "  <button class=\"colab-df-quickchart\" onclick=\"quickchart('df-d0b7bb43-c4b1-4e36-b0bb-fbb82c44a37b')\"\n",
              "            title=\"Suggest charts\"\n",
              "            style=\"display:none;\">\n",
              "\n",
              "<svg xmlns=\"http://www.w3.org/2000/svg\" height=\"24px\"viewBox=\"0 0 24 24\"\n",
              "     width=\"24px\">\n",
              "    <g>\n",
              "        <path d=\"M19 3H5c-1.1 0-2 .9-2 2v14c0 1.1.9 2 2 2h14c1.1 0 2-.9 2-2V5c0-1.1-.9-2-2-2zM9 17H7v-7h2v7zm4 0h-2V7h2v10zm4 0h-2v-4h2v4z\"/>\n",
              "    </g>\n",
              "</svg>\n",
              "  </button>\n",
              "\n",
              "<style>\n",
              "  .colab-df-quickchart {\n",
              "      --bg-color: #E8F0FE;\n",
              "      --fill-color: #1967D2;\n",
              "      --hover-bg-color: #E2EBFA;\n",
              "      --hover-fill-color: #174EA6;\n",
              "      --disabled-fill-color: #AAA;\n",
              "      --disabled-bg-color: #DDD;\n",
              "  }\n",
              "\n",
              "  [theme=dark] .colab-df-quickchart {\n",
              "      --bg-color: #3B4455;\n",
              "      --fill-color: #D2E3FC;\n",
              "      --hover-bg-color: #434B5C;\n",
              "      --hover-fill-color: #FFFFFF;\n",
              "      --disabled-bg-color: #3B4455;\n",
              "      --disabled-fill-color: #666;\n",
              "  }\n",
              "\n",
              "  .colab-df-quickchart {\n",
              "    background-color: var(--bg-color);\n",
              "    border: none;\n",
              "    border-radius: 50%;\n",
              "    cursor: pointer;\n",
              "    display: none;\n",
              "    fill: var(--fill-color);\n",
              "    height: 32px;\n",
              "    padding: 0;\n",
              "    width: 32px;\n",
              "  }\n",
              "\n",
              "  .colab-df-quickchart:hover {\n",
              "    background-color: var(--hover-bg-color);\n",
              "    box-shadow: 0 1px 2px rgba(60, 64, 67, 0.3), 0 1px 3px 1px rgba(60, 64, 67, 0.15);\n",
              "    fill: var(--button-hover-fill-color);\n",
              "  }\n",
              "\n",
              "  .colab-df-quickchart-complete:disabled,\n",
              "  .colab-df-quickchart-complete:disabled:hover {\n",
              "    background-color: var(--disabled-bg-color);\n",
              "    fill: var(--disabled-fill-color);\n",
              "    box-shadow: none;\n",
              "  }\n",
              "\n",
              "  .colab-df-spinner {\n",
              "    border: 2px solid var(--fill-color);\n",
              "    border-color: transparent;\n",
              "    border-bottom-color: var(--fill-color);\n",
              "    animation:\n",
              "      spin 1s steps(1) infinite;\n",
              "  }\n",
              "\n",
              "  @keyframes spin {\n",
              "    0% {\n",
              "      border-color: transparent;\n",
              "      border-bottom-color: var(--fill-color);\n",
              "      border-left-color: var(--fill-color);\n",
              "    }\n",
              "    20% {\n",
              "      border-color: transparent;\n",
              "      border-left-color: var(--fill-color);\n",
              "      border-top-color: var(--fill-color);\n",
              "    }\n",
              "    30% {\n",
              "      border-color: transparent;\n",
              "      border-left-color: var(--fill-color);\n",
              "      border-top-color: var(--fill-color);\n",
              "      border-right-color: var(--fill-color);\n",
              "    }\n",
              "    40% {\n",
              "      border-color: transparent;\n",
              "      border-right-color: var(--fill-color);\n",
              "      border-top-color: var(--fill-color);\n",
              "    }\n",
              "    60% {\n",
              "      border-color: transparent;\n",
              "      border-right-color: var(--fill-color);\n",
              "    }\n",
              "    80% {\n",
              "      border-color: transparent;\n",
              "      border-right-color: var(--fill-color);\n",
              "      border-bottom-color: var(--fill-color);\n",
              "    }\n",
              "    90% {\n",
              "      border-color: transparent;\n",
              "      border-bottom-color: var(--fill-color);\n",
              "    }\n",
              "  }\n",
              "</style>\n",
              "\n",
              "  <script>\n",
              "    async function quickchart(key) {\n",
              "      const quickchartButtonEl =\n",
              "        document.querySelector('#' + key + ' button');\n",
              "      quickchartButtonEl.disabled = true;  // To prevent multiple clicks.\n",
              "      quickchartButtonEl.classList.add('colab-df-spinner');\n",
              "      try {\n",
              "        const charts = await google.colab.kernel.invokeFunction(\n",
              "            'suggestCharts', [key], {});\n",
              "      } catch (error) {\n",
              "        console.error('Error during call to suggestCharts:', error);\n",
              "      }\n",
              "      quickchartButtonEl.classList.remove('colab-df-spinner');\n",
              "      quickchartButtonEl.classList.add('colab-df-quickchart-complete');\n",
              "    }\n",
              "    (() => {\n",
              "      let quickchartButtonEl =\n",
              "        document.querySelector('#df-d0b7bb43-c4b1-4e36-b0bb-fbb82c44a37b button');\n",
              "      quickchartButtonEl.style.display =\n",
              "        google.colab.kernel.accessAllowed ? 'block' : 'none';\n",
              "    })();\n",
              "  </script>\n",
              "</div>\n",
              "\n",
              "    </div>\n",
              "  </div>\n"
            ],
            "application/vnd.google.colaboratory.intrinsic+json": {
              "type": "dataframe",
              "variable_name": "data",
              "summary": "{\n  \"name\": \"data\",\n  \"rows\": 100,\n  \"fields\": [\n    {\n      \"column\": \"id\",\n      \"properties\": {\n        \"dtype\": \"number\",\n        \"std\": 30665494,\n        \"min\": 85715,\n        \"max\": 86135502,\n        \"num_unique_values\": 100,\n        \"samples\": [\n          8611792,\n          857392,\n          859575\n        ],\n        \"semantic_type\": \"\",\n        \"description\": \"\"\n      }\n    },\n    {\n      \"column\": \"diagnosis\",\n      \"properties\": {\n        \"dtype\": \"category\",\n        \"num_unique_values\": 2,\n        \"samples\": [\n          \"B\",\n          \"M\"\n        ],\n        \"semantic_type\": \"\",\n        \"description\": \"\"\n      }\n    },\n    {\n      \"column\": \"radius_mean\",\n      \"properties\": {\n        \"dtype\": \"number\",\n        \"std\": 3.3492453773314006,\n        \"min\": 8.196,\n        \"max\": 25.22,\n        \"num_unique_values\": 97,\n        \"samples\": [\n          14.78,\n          10.95\n        ],\n        \"semantic_type\": \"\",\n        \"description\": \"\"\n      }\n    },\n    {\n      \"column\": \"texture_mean\",\n      \"properties\": {\n        \"dtype\": \"number\",\n        \"std\": 3.7591764034590387,\n        \"min\": 10.38,\n        \"max\": 27.54,\n        \"num_unique_values\": 97,\n        \"samples\": [\n          23.94,\n          21.58\n        ],\n        \"semantic_type\": \"\",\n        \"description\": \"\"\n      }\n    },\n    {\n      \"column\": \"perimeter_mean\",\n      \"properties\": {\n        \"dtype\": \"number\",\n        \"std\": 23.18747115895726,\n        \"min\": 51.71,\n        \"max\": 171.5,\n        \"num_unique_values\": 96,\n        \"samples\": [\n          129.1,\n          73.81\n        ],\n        \"semantic_type\": \"\",\n        \"description\": \"\"\n      }\n    },\n    {\n      \"column\": \"area_mean\",\n      \"properties\": {\n        \"dtype\": \"number\",\n        \"std\": 320.1523012741141,\n        \"min\": 201.9,\n        \"max\": 1878.0,\n        \"num_unique_values\": 97,\n        \"samples\": [\n          645.7,\n          563.0\n        ],\n        \"semantic_type\": \"\",\n        \"description\": \"\"\n      }\n    },\n    {\n      \"column\": \"smoothness_mean\",\n      \"properties\": {\n        \"dtype\": \"number\",\n        \"std\": 0.01315093616324317,\n        \"min\": 0.07355,\n        \"max\": 0.1425,\n        \"num_unique_values\": 95,\n        \"samples\": [\n          0.09009,\n          0.1073\n        ],\n        \"semantic_type\": \"\",\n        \"description\": \"\"\n      }\n    },\n    {\n      \"column\": \"compactness_mean\",\n      \"properties\": {\n        \"dtype\": \"number\",\n        \"std\": 0.06112279285755086,\n        \"min\": 0.03766,\n        \"max\": 0.3454,\n        \"num_unique_values\": 99,\n        \"samples\": [\n          0.2008,\n          0.06031\n        ],\n        \"semantic_type\": \"\",\n        \"description\": \"\"\n      }\n    },\n    {\n      \"column\": \"concavity_mean\",\n      \"properties\": {\n        \"dtype\": \"number\",\n        \"std\": 0.07886177313365289,\n        \"min\": 0.000692,\n        \"max\": 0.3754,\n        \"num_unique_values\": 99,\n        \"samples\": [\n          0.05988,\n          0.0311\n        ],\n        \"semantic_type\": \"\",\n        \"description\": \"\"\n      }\n    },\n    {\n      \"column\": \"concave points_mean\",\n      \"properties\": {\n        \"dtype\": \"number\",\n        \"std\": 0.038103556949289887,\n        \"min\": 0.004167,\n        \"max\": 0.1845,\n        \"num_unique_values\": 100,\n        \"samples\": [\n          0.1469,\n          0.106\n        ],\n        \"semantic_type\": \"\",\n        \"description\": \"\"\n      }\n    },\n    {\n      \"column\": \"symmetry_mean\",\n      \"properties\": {\n        \"dtype\": \"number\",\n        \"std\": 0.030821832416898145,\n        \"min\": 0.135,\n        \"max\": 0.304,\n        \"num_unique_values\": 91,\n        \"samples\": [\n          0.231,\n          0.1769\n        ],\n        \"semantic_type\": \"\",\n        \"description\": \"\"\n      }\n    },\n    {\n      \"column\": \"fractal_dimension_mean\",\n      \"properties\": {\n        \"dtype\": \"number\",\n        \"std\": 0.008168412243254965,\n        \"min\": 0.05278,\n        \"max\": 0.09744,\n        \"num_unique_values\": 98,\n        \"samples\": [\n          0.07292,\n          0.05587\n        ],\n        \"semantic_type\": \"\",\n        \"description\": \"\"\n      }\n    },\n    {\n      \"column\": \"radius_se\",\n      \"properties\": {\n        \"dtype\": \"number\",\n        \"std\": 0.24117944092155186,\n        \"min\": 0.1559,\n        \"max\": 1.214,\n        \"num_unique_values\": 99,\n        \"samples\": [\n          0.7036,\n          0.2385\n        ],\n        \"semantic_type\": \"\",\n        \"description\": \"\"\n      }\n    },\n    {\n      \"column\": \"texture_se\",\n      \"properties\": {\n        \"dtype\": \"number\",\n        \"std\": 0.5191710802468166,\n        \"min\": 0.5391,\n        \"max\": 3.568,\n        \"num_unique_values\": 99,\n        \"samples\": [\n          1.268,\n          0.8265\n        ],\n        \"semantic_type\": \"\",\n        \"description\": \"\"\n      }\n    }\n  ]\n}"
            }
          },
          "metadata": {},
          "execution_count": 3
        }
      ]
    },
    {
      "cell_type": "markdown",
      "source": [],
      "metadata": {
        "id": "JCgCPQdRnrGy"
      }
    },
    {
      "cell_type": "markdown",
      "source": [
        "3.splitting dependent and independent variables"
      ],
      "metadata": {
        "id": "TVK2ykB-TC7e"
      }
    },
    {
      "cell_type": "code",
      "source": [
        "x=data.drop(columns=\"diagnosis\",axis=1).values\n",
        "y=data[\"diagnosis\"].values.reshape(-1,1)\n",
        "y"
      ],
      "metadata": {
        "colab": {
          "base_uri": "https://localhost:8080/"
        },
        "collapsed": true,
        "id": "cd2Q1gVpTVVJ",
        "outputId": "db8db2c1-17c4-424b-e65d-d2aa8106c02a"
      },
      "execution_count": 4,
      "outputs": [
        {
          "output_type": "execute_result",
          "data": {
            "text/plain": [
              "array([['M'],\n",
              "       ['M'],\n",
              "       ['M'],\n",
              "       ['M'],\n",
              "       ['M'],\n",
              "       ['M'],\n",
              "       ['M'],\n",
              "       ['M'],\n",
              "       ['M'],\n",
              "       ['M'],\n",
              "       ['M'],\n",
              "       ['M'],\n",
              "       ['M'],\n",
              "       ['M'],\n",
              "       ['M'],\n",
              "       ['M'],\n",
              "       ['M'],\n",
              "       ['M'],\n",
              "       ['M'],\n",
              "       ['B'],\n",
              "       ['B'],\n",
              "       ['B'],\n",
              "       ['M'],\n",
              "       ['M'],\n",
              "       ['M'],\n",
              "       ['M'],\n",
              "       ['M'],\n",
              "       ['M'],\n",
              "       ['M'],\n",
              "       ['M'],\n",
              "       ['M'],\n",
              "       ['M'],\n",
              "       ['M'],\n",
              "       ['M'],\n",
              "       ['M'],\n",
              "       ['M'],\n",
              "       ['M'],\n",
              "       ['B'],\n",
              "       ['M'],\n",
              "       ['M'],\n",
              "       ['M'],\n",
              "       ['M'],\n",
              "       ['M'],\n",
              "       ['M'],\n",
              "       ['M'],\n",
              "       ['M'],\n",
              "       ['B'],\n",
              "       ['M'],\n",
              "       ['B'],\n",
              "       ['B'],\n",
              "       ['B'],\n",
              "       ['B'],\n",
              "       ['B'],\n",
              "       ['M'],\n",
              "       ['M'],\n",
              "       ['B'],\n",
              "       ['M'],\n",
              "       ['M'],\n",
              "       ['B'],\n",
              "       ['B'],\n",
              "       ['B'],\n",
              "       ['B'],\n",
              "       ['M'],\n",
              "       ['B'],\n",
              "       ['M'],\n",
              "       ['M'],\n",
              "       ['B'],\n",
              "       ['B'],\n",
              "       ['B'],\n",
              "       ['B'],\n",
              "       ['M'],\n",
              "       ['B'],\n",
              "       ['M'],\n",
              "       ['M'],\n",
              "       ['B'],\n",
              "       ['M'],\n",
              "       ['B'],\n",
              "       ['M'],\n",
              "       ['M'],\n",
              "       ['B'],\n",
              "       ['B'],\n",
              "       ['B'],\n",
              "       ['M'],\n",
              "       ['M'],\n",
              "       ['B'],\n",
              "       ['M'],\n",
              "       ['M'],\n",
              "       ['M'],\n",
              "       ['B'],\n",
              "       ['B'],\n",
              "       ['B'],\n",
              "       ['M'],\n",
              "       ['B'],\n",
              "       ['B'],\n",
              "       ['M'],\n",
              "       ['M'],\n",
              "       ['B'],\n",
              "       ['B'],\n",
              "       ['B'],\n",
              "       ['M']], dtype=object)"
            ]
          },
          "metadata": {},
          "execution_count": 4
        }
      ]
    },
    {
      "cell_type": "markdown",
      "source": [
        "4.Standardize the features"
      ],
      "metadata": {
        "id": "bCR7GGzOWuxp"
      }
    },
    {
      "cell_type": "code",
      "source": [
        "scaler=StandardScaler()\n",
        "x_scaled=scaler.fit_transform(x)\n",
        "x_scaled"
      ],
      "metadata": {
        "collapsed": true,
        "colab": {
          "base_uri": "https://localhost:8080/"
        },
        "id": "J3le6U_mXOe1",
        "outputId": "2e34453c-57b2-48d1-ff13-7c027dabcd0c"
      },
      "execution_count": 5,
      "outputs": [
        {
          "output_type": "execute_result",
          "data": {
            "text/plain": [
              "array([[-0.47944209,  0.98492491, -2.48967118, ...,  1.72748767,\n",
              "         2.60303647, -0.54102968],\n",
              "       [-0.47943505,  1.75912844, -0.51391142, ..., -0.98430414,\n",
              "         0.30483745, -0.87283453],\n",
              "       [ 2.2558489 ,  1.49505902,  0.41648695, ..., -0.57581282,\n",
              "         1.14702426, -0.77023443],\n",
              "       ...,\n",
              "       [-0.47878795, -1.47662217,  0.06625078, ...,  0.52046963,\n",
              "        -0.56401929,  1.66138792],\n",
              "       [-0.47878061, -0.93257915, -1.83197578, ...,  0.14150779,\n",
              "        -0.99532228, -1.24993829],\n",
              "       [-0.47877855, -0.0863567 ,  0.02080029, ..., -0.09472815,\n",
              "        -0.75362592,  1.28970454]])"
            ]
          },
          "metadata": {},
          "execution_count": 5
        }
      ]
    },
    {
      "cell_type": "markdown",
      "source": [
        "5.split data into training and testing data"
      ],
      "metadata": {
        "id": "nBfxawueXSAK"
      }
    },
    {
      "cell_type": "code",
      "source": [
        "X_train,X_test,Y_train,Y_test=train_test_split(x_scaled,y,test_size=0.2,random_state=42)\n",
        "X_train.shape,X_test.shape,Y_train.shape,Y_test.shape"
      ],
      "metadata": {
        "id": "iuQxzh0yXbr6",
        "colab": {
          "base_uri": "https://localhost:8080/"
        },
        "outputId": "fc11441e-7355-43e1-a91b-7c49f60b2637"
      },
      "execution_count": 6,
      "outputs": [
        {
          "output_type": "execute_result",
          "data": {
            "text/plain": [
              "((80, 13), (20, 13), (80, 1), (20, 1))"
            ]
          },
          "metadata": {},
          "execution_count": 6
        }
      ]
    },
    {
      "cell_type": "markdown",
      "source": [
        "A.BUILD THE NETWORK\n",
        "  1. 1st initalize the parameters before building the netwroks"
      ],
      "metadata": {
        "id": "DJNDp8xpZbbc"
      }
    },
    {
      "cell_type": "code",
      "source": [
        "input_size=X_train.shape[1]\n",
        "#1 hidden layer with 10 neurons\n",
        "hidden_size=10\n",
        "output_size=1"
      ],
      "metadata": {
        "id": "rDKV7KcqZ0Ze"
      },
      "execution_count": 7,
      "outputs": []
    },
    {
      "cell_type": "markdown",
      "source": [
        "2.Define a function to initialize weights(w1,w2) using rand and biases(b2,b2) using zeros"
      ],
      "metadata": {
        "id": "HW8y21y_aiPX"
      }
    },
    {
      "cell_type": "code",
      "source": [
        "# connection between input layer and hidden layer we use weight w1\n",
        "# connection between hidden and output layer we use weight w2\n",
        "def initialize_parameters(input_size,hidden_size,output_size):\n",
        "  np.random.seed(42)\n",
        "  w1=np.random.randn(hidden_size,input_size)*0.01\n",
        "  b1=np.zeros((hidden_size,1))\n",
        "  w2=np.random.randn(output_size,hidden_size)*0.01\n",
        "  b2=np.zeros((output_size,1))\n",
        "  return w1,b1,w2,b2;"
      ],
      "metadata": {
        "id": "FFQDJIKda2PQ"
      },
      "execution_count": 8,
      "outputs": []
    },
    {
      "cell_type": "markdown",
      "source": [
        "3.define activation function"
      ],
      "metadata": {
        "id": "gf7TNynneTL-"
      }
    },
    {
      "cell_type": "code",
      "source": [
        "#define sigmoid function\n",
        "def sigmoid(z):\n",
        "  return 1/(1+np.exp(-z))\n",
        "#define of sigmoid function\n",
        "def sigmoid_derivative(z):\n",
        "  return sigmoid(z)*(1-sigmoid(z))\n",
        "#define relu\n",
        "# def relu(z):\n",
        "#   return np.maximum(0,z)\n",
        "#define relu derivative\n",
        "def relu_derivative(z):\n",
        "  return np.where(z>0,1,0)"
      ],
      "metadata": {
        "id": "CxpmRq2aeZgn"
      },
      "execution_count": 13,
      "outputs": []
    },
    {
      "cell_type": "markdown",
      "source": [
        "4.implement forward propagation"
      ],
      "metadata": {
        "id": "YRNgiay_hrYi"
      }
    },
    {
      "cell_type": "code",
      "source": [
        "def forward_propagation(X,w1,b1,w2,b2):\n",
        "  z1=np.dot(w1,X.T)+b1\n",
        "  a1=relu(z1)\n",
        "  z2=np.dot(w2,a1)+b2\n",
        "  a2=sigmoid(z2)\n",
        "  return z1,a1,z2,a2"
      ],
      "metadata": {
        "id": "Z3Zw2mZPh3tW"
      },
      "execution_count": 14,
      "outputs": []
    },
    {
      "cell_type": "markdown",
      "source": [
        "5.defining loss function"
      ],
      "metadata": {
        "id": "ClLHTdQ0ij7a"
      }
    },
    {
      "cell_type": "code",
      "source": [
        "def binary_cross_entropy(y_train,a2):\n",
        "  bce=np.mean(-(y_train*np.log(a2)+(1-y_train)*np.log(1-a2)))\n",
        "  return bce"
      ],
      "metadata": {
        "id": "WvMSwIxDinnL"
      },
      "execution_count": 15,
      "outputs": []
    },
    {
      "cell_type": "markdown",
      "source": [
        "6.Backward propagation"
      ],
      "metadata": {
        "id": "UPoxmjrvk7O8"
      }
    },
    {
      "cell_type": "code",
      "source": [
        "def backword_propagation(X,y,z1,a1,z2,a2,w2):\n",
        "  m=X.shape[0]\n",
        "  dz2=a2-y.reshape(-1,1)\n",
        "  dw2=np.dot(dz2,a1.T)/m\n",
        "  db2=np.sum(dz2,axis=0)/m\n",
        "  da1=np.dot(w2.T,dz2)\n",
        "  dz1=da1*relu_derivative(z1)\n",
        "  dw1=np.dot(dz1,X.T)/m\n",
        "  db1=np.sum(dz1,axis=0)/m\n",
        "  return dw1,db1,dw2,db2\n"
      ],
      "metadata": {
        "id": "LMHfUifulEn1"
      },
      "execution_count": 17,
      "outputs": []
    },
    {
      "cell_type": "markdown",
      "source": [
        "7.update parameters"
      ],
      "metadata": {
        "id": "uwDBAedwnyTR"
      }
    },
    {
      "cell_type": "code",
      "source": [
        "def update_parameters(w1,b1,w2,b2,dw1,db1,dw2,db2,learning_rate):\n",
        "  w1=w1-learning_rate*dw1\n",
        "  b1=b1-learning_rate*db1\n",
        "  w2=w2-learning_rate*dw2\n",
        "  b2=b2-learning_rate*db2\n",
        "  return w1,b1,w2,b2"
      ],
      "metadata": {
        "id": "5mM3s8u0n2ob"
      },
      "execution_count": null,
      "outputs": []
    },
    {
      "cell_type": "markdown",
      "source": [
        "8.taining loop"
      ],
      "metadata": {
        "id": "F_KcxiDxoiUW"
      }
    },
    {
      "cell_type": "code",
      "source": [
        "def train_model(X,y,hidden_size,learning_rate,epochs):\n",
        "  input_size=X.shape[1]\n",
        "  output_size=1\n",
        "  w1,b1,w2,b2=initialize_parameters(input_size,hidden_size,output_size)\n",
        "  for epoch in range(epochs):\n",
        "    z1,a1,z2,a2=forward_propagation(X,w1,b1,w2,b2)\n",
        "    y_pred=a2>0\n",
        "    loss=binary_cross_entropy(y_train,a2)\n",
        "    dw1,db1,dw2,db2=backword_propagation(X,y,z1,a1,z2,a2)\n",
        "    w1,b1,w2,b2=update_parameters(w1,b1,w2,b2,dw1,db1,dw2,db2,learning_rate)\n",
        "    if epoch%100==0:\n",
        "      print(f\"epoch:{epoch},loss:{loss}\")\n",
        "    accuracy=np.mean(y_pred.flatten()==y)\n",
        "  print(f\"final accuracy:{accuracy}\")\n",
        "  return accuracy\n",
        "\n",
        "  train_model(X_train,Y_train,hidden_size=10,learning_rate=0.01,epochs=1000)"
      ],
      "metadata": {
        "id": "E0El-t3VoydF"
      },
      "execution_count": 18,
      "outputs": []
    }
  ]
}